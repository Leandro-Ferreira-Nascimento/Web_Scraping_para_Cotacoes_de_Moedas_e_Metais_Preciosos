{
 "cells": [
  {
   "cell_type": "markdown",
   "id": "cf2567b6",
   "metadata": {},
   "source": [
    "## <span style=\"color:blue;\">Web Scraping para Cotações de Moedas e Metais Preciosos</span>"
   ]
  },
  {
   "cell_type": "code",
   "execution_count": 1,
   "id": "179feeef",
   "metadata": {},
   "outputs": [
    {
     "name": "stdout",
     "output_type": "stream",
     "text": [
      "Cotação do dólar de hoje:5.58\n",
      "Cotação do Euro de hoje:5.98\n",
      "Cotação do Bitcoin de hoje: 350,740.86\n"
     ]
    }
   ],
   "source": [
    "\n",
    "from selenium import webdriver\n",
    "from selenium.webdriver.chrome.service import Service\n",
    "from webdriver_manager.chrome import ChromeDriverManager\n",
    "from selenium.webdriver.common.by import By\n",
    "from selenium.webdriver.common.keys import Keys\n",
    "import time\n",
    "servico = Service(ChromeDriverManager().install())\n",
    "\n",
    "options = webdriver.ChromeOptions()\n",
    "options.add_argument(r\"--user-data-dir=C:\\Users\\Leandro\\AppData\\Local\\Google\\Chrome\\User Data\\ Perfil Selenium\")# Estou apenas usando um perfil diferente para não interferir no outro\n",
    "navegador = webdriver.Chrome(service=servico, options=options)\n",
    "\n",
    "# Maximizar a janela do navegador\n",
    "time.sleep(2)\n",
    "navegador.maximize_window()\n",
    "\n",
    "# Entrar no Google\n",
    "navegador.get('https://www.google.com.br/')\n",
    "navegador.maximize_window()\n",
    "\n",
    "# Funções \n",
    "\n",
    "def wait(seconds):\n",
    "    time.sleep(seconds)\n",
    "def format_numero(numero):\n",
    "    numero = float(numero)  # Converte para float\n",
    "    return \"{:.2f}\".format(numero)\n",
    "\n",
    "# Cotação Dolar \n",
    "navegador.find_element(By.XPATH, '//*[@id=\"APjFqb\"]').click()\n",
    "wait(1)\n",
    "navegador.find_element(By.XPATH, '//*[@id=\"APjFqb\"]').send_keys('cotação do dolar')\n",
    "wait(2)\n",
    "navegador.find_element(By.XPATH, '//*[@id=\"APjFqb\"]').send_keys(Keys.ENTER)\n",
    "cotacao_dolar=navegador.find_element(By.XPATH,'//*[@id=\"knowledge-currency__updatable-data-column\"]/div[1]/div[2]/span[1]').get_attribute('data-value')\n",
    "\n",
    "## Cotação Euro\n",
    "\n",
    "navegador.get('https://www.google.com.br/')\n",
    "wait(1)\n",
    "# Pesquisar no google por cotação Euro\n",
    "                                                                                                                  \n",
    "navegador.find_element(By.XPATH, '//*[@id=\"APjFqb\"]').click()\n",
    "wait(2)\n",
    "navegador.find_element(By.XPATH, '//*[@id=\"APjFqb\"]').send_keys('cotação euro')\n",
    "wait(2)\n",
    "navegador.find_element(By.XPATH, '//*[@id=\"APjFqb\"]').send_keys(Keys.ENTER)\n",
    "cotacao_euro = navegador.find_element(By.XPATH,'//*[@id=\"knowledge-currency__updatable-data-column\"]/div[1]/div[2]/span[1]').get_attribute('data-value')\n",
    "\n",
    "# Cotação do bitcoin\n",
    "\n",
    "navegador.get('https://www.google.com.br/')\n",
    "wait(1)\n",
    "# Pesquisar no google por cotação biticoin\n",
    "                                                                                                                  \n",
    "navegador.find_element(By.XPATH, '//*[@id=\"APjFqb\"]').click()\n",
    "wait(2)\n",
    "navegador.find_element(By.XPATH, '//*[@id=\"APjFqb\"]').send_keys('cotação do bitcoin')\n",
    "wait(2)\n",
    "navegador.find_element(By.XPATH, '//*[@id=\"APjFqb\"]').send_keys(Keys.ENTER)\n",
    "cotacao_bitcoin = navegador.find_element(\"class name\", \"pclqee\")\n",
    "conversao_bitcoin = cotacao_bitcoin.text\n",
    "# Remover ponto de milhar e substituir vírgula por ponto decimal\n",
    "conversao_bitcoin = conversao_bitcoin.replace('.', '').replace(',', '.')\n",
    "# Converter para float, se necessário\n",
    "conversao_bitcoin = float(conversao_bitcoin)\n",
    "\n",
    "cotacao_dolar_formatado = format_numero(cotacao_dolar)\n",
    "print(f\"Cotação do dólar de hoje:{cotacao_dolar_formatado}\")\n",
    "\n",
    "cotacao_euro_formado = format_numero(cotacao_euro)\n",
    "print(f\"Cotação do Euro de hoje:{cotacao_euro_formado}\")\n",
    "\n",
    "print(f\"Cotação do Bitcoin de hoje: {conversao_bitcoin:,.2f}\")\n",
    "\n",
    "navegador.quit() # vai fechar o navegador "
   ]
  },
  {
   "cell_type": "code",
   "execution_count": null,
   "id": "90ddf3af",
   "metadata": {},
   "outputs": [],
   "source": []
  }
 ],
 "metadata": {
  "kernelspec": {
   "display_name": "Python 3 (ipykernel)",
   "language": "python",
   "name": "python3"
  },
  "language_info": {
   "codemirror_mode": {
    "name": "ipython",
    "version": 3
   },
   "file_extension": ".py",
   "mimetype": "text/x-python",
   "name": "python",
   "nbconvert_exporter": "python",
   "pygments_lexer": "ipython3",
   "version": "3.9.12"
  }
 },
 "nbformat": 4,
 "nbformat_minor": 5
}
